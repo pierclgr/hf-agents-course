{
 "cells": [
  {
   "metadata": {},
   "cell_type": "markdown",
   "source": [
    "# Agentic Retrieval-Augmented Generation\n",
    "Let's build an agent that performs retrieval-augmented generation by searching on the web."
   ],
   "id": "fa0f10b784415940"
  },
  {
   "metadata": {},
   "cell_type": "code",
   "source": [
    "from smolagents import CodeAgent, DuckDuckGoSearchTool, HfApiModel\n",
    "\n",
    "# initialize the agent\n",
    "agent = CodeAgent(\n",
    "    tools=[DuckDuckGoSearchTool()],\n",
    "    model=HfApiModel()\n",
    ")\n",
    "\n",
    "response = agent.run(\n",
    "    \"Search for luxury superhero-themed party ideas, including decorations, entertainment, and catering.\"\n",
    ")\n",
    "print(response)"
   ],
   "id": "3d058b09da9ad31a",
   "outputs": [],
   "execution_count": null
  },
  {
   "metadata": {},
   "cell_type": "markdown",
   "source": [
    "## Agentic RAG with custom knowledge base\n",
    "Let's now build an agentic RAG system that interacts with a custom knowledge base."
   ],
   "id": "ac8cab1cf97674d0"
  },
  {
   "metadata": {
    "ExecuteTime": {
     "end_time": "2025-03-17T23:56:46.342660Z",
     "start_time": "2025-03-17T23:56:33.999513Z"
    }
   },
   "cell_type": "code",
   "source": [
    "from langchain.docstore.document import Document\n",
    "from langchain.text_splitter import RecursiveCharacterTextSplitter\n",
    "from smolagents import Tool\n",
    "from langchain_community.retrievers import BM25Retriever\n",
    "from smolagents import CodeAgent, HfApiModel\n",
    "\n",
    "\n",
    "class PartyPlanningRetrieverTool(Tool):\n",
    "    name = \"party_planning_retriever\"\n",
    "    description = \"Uses semantic search to retrieve relevant party planning ideas for Alfred's superhero-themed party at Wayne Manor.\"\n",
    "    inputs = {\n",
    "        \"query\": {\n",
    "            \"type\": \"string\",\n",
    "            \"description\": \"The query to perform. This should be a query related to party planning or superhero themes.\"\n",
    "        }\n",
    "    }\n",
    "    output_type = \"string\"\n",
    "\n",
    "    def __init__(self, docs, **kwargs):\n",
    "        super().__init__(**kwargs)\n",
    "        self.retriever = BM25Retriever.from_documents(\n",
    "            docs,\n",
    "            k=5  #retrieve the top 5 documents\n",
    "        )\n",
    "\n",
    "    def forward(self, query: str) -> str:\n",
    "        assert isinstance(query, str), \"Your search query must be a string\"\n",
    "\n",
    "        docs = self.retriever.invoke(\n",
    "            query,\n",
    "        )\n",
    "        return \"\\nRetrieved ideas:\\n\" + \"\".join(\n",
    "            [\n",
    "                f\"\\n\\n===== Idea {str(i)} =====\\n\" + doc.page_content\n",
    "                for i, doc in enumerate(docs)\n",
    "            ]\n",
    "        )\n",
    "\n",
    "\n",
    "# simulate a knowledge base about party planning ideas\n",
    "party_ideas = [\n",
    "    {\"text\": \"A superhero-themed masquerade ball with luxury decor, including gold accents and velvet curtains.\",\n",
    "     \"source\": \"Party Ideas 1\"},\n",
    "    {\"text\": \"Hire a professional DJ who can play themed music for superheroes like Batman and Wonder Woman.\",\n",
    "     \"source\": \"Entertainment Ideas\"},\n",
    "    {\n",
    "        \"text\": \"For catering, serve dishes named after superheroes, like 'The Hulk's Green Smoothie' and 'Iron Man's Power Steak.'\",\n",
    "        \"source\": \"Catering Ideas\"},\n",
    "    {\n",
    "        \"text\": \"Decorate with iconic superhero logos and projections of Gotham and other superhero cities around the venue.\",\n",
    "        \"source\": \"Decoration Ideas\"},\n",
    "    {\n",
    "        \"text\": \"Interactive experiences with VR where guests can engage in superhero simulations or compete in themed games.\",\n",
    "        \"source\": \"Entertainment Ideas\"}\n",
    "]\n",
    "\n",
    "# load the documents into a document store\n",
    "source_docs = [\n",
    "    Document(page_content=doc[\"text\"], metadata={\"source\": doc[\"source\"]})\n",
    "    for doc in party_ideas\n",
    "]\n",
    "\n",
    "# split the documents into smaller chunks for more efficient search\n",
    "text_splitter = RecursiveCharacterTextSplitter(\n",
    "    chunk_size=500,\n",
    "    chunk_overlap=50,\n",
    "    add_start_index=True,\n",
    "    strip_whitespace=True,\n",
    "    separators=[\"\\n\\n\", \"\\n\", \".\", \" \", \"\"]\n",
    ")\n",
    "docs_processed = text_splitter.split_documents(source_docs)\n",
    "\n",
    "# create the retriever tool\n",
    "party_planning_retriever = PartyPlanningRetrieverTool(docs_processed)\n",
    "\n",
    "# initialize the agent\n",
    "agent = CodeAgent(tools=[party_planning_retriever], model=HfApiModel())\n",
    "\n",
    "# example usage\n",
    "response = agent.run(\n",
    "    \"Find ideas for a luxury superhero-themed party, including entertainment, catering, and decoration options.\"\n",
    ")\n",
    "\n",
    "print(response)"
   ],
   "id": "e6b27f02207192d2",
   "outputs": [
    {
     "data": {
      "text/plain": [
       "\u001B[38;2;212;183;2m╭─\u001B[0m\u001B[38;2;212;183;2m───────────────────────────────────────────────────\u001B[0m\u001B[38;2;212;183;2m \u001B[0m\u001B[1;38;2;212;183;2mNew run\u001B[0m\u001B[38;2;212;183;2m \u001B[0m\u001B[38;2;212;183;2m───────────────────────────────────────────────────\u001B[0m\u001B[38;2;212;183;2m─╮\u001B[0m\n",
       "\u001B[38;2;212;183;2m│\u001B[0m                                                                                                                 \u001B[38;2;212;183;2m│\u001B[0m\n",
       "\u001B[38;2;212;183;2m│\u001B[0m \u001B[1mFind ideas for a luxury superhero-themed party, including entertainment, catering, and decoration options.\u001B[0m      \u001B[38;2;212;183;2m│\u001B[0m\n",
       "\u001B[38;2;212;183;2m│\u001B[0m                                                                                                                 \u001B[38;2;212;183;2m│\u001B[0m\n",
       "\u001B[38;2;212;183;2m╰─\u001B[0m\u001B[38;2;212;183;2m HfApiModel - Qwen/Qwen2.5-Coder-32B-Instruct \u001B[0m\u001B[38;2;212;183;2m─────────────────────────────────────────────────────────────────\u001B[0m\u001B[38;2;212;183;2m─╯\u001B[0m\n"
      ],
      "text/html": [
       "<pre style=\"white-space:pre;overflow-x:auto;line-height:normal;font-family:Menlo,'DejaVu Sans Mono',consolas,'Courier New',monospace\"><span style=\"color: #d4b702; text-decoration-color: #d4b702\">╭──────────────────────────────────────────────────── </span><span style=\"color: #d4b702; text-decoration-color: #d4b702; font-weight: bold\">New run</span><span style=\"color: #d4b702; text-decoration-color: #d4b702\"> ────────────────────────────────────────────────────╮</span>\n",
       "<span style=\"color: #d4b702; text-decoration-color: #d4b702\">│</span>                                                                                                                 <span style=\"color: #d4b702; text-decoration-color: #d4b702\">│</span>\n",
       "<span style=\"color: #d4b702; text-decoration-color: #d4b702\">│</span> <span style=\"font-weight: bold\">Find ideas for a luxury superhero-themed party, including entertainment, catering, and decoration options.</span>      <span style=\"color: #d4b702; text-decoration-color: #d4b702\">│</span>\n",
       "<span style=\"color: #d4b702; text-decoration-color: #d4b702\">│</span>                                                                                                                 <span style=\"color: #d4b702; text-decoration-color: #d4b702\">│</span>\n",
       "<span style=\"color: #d4b702; text-decoration-color: #d4b702\">╰─ HfApiModel - Qwen/Qwen2.5-Coder-32B-Instruct ──────────────────────────────────────────────────────────────────╯</span>\n",
       "</pre>\n"
      ]
     },
     "metadata": {},
     "output_type": "display_data"
    },
    {
     "data": {
      "text/plain": [
       "\u001B[38;2;212;183;2m━━━━━━━━━━━━━━━━━━━━━━━━━━━━━━━━━━━━━━━━━━━━━━━━━━━━━ \u001B[0m\u001B[1mStep \u001B[0m\u001B[1;36m1\u001B[0m\u001B[38;2;212;183;2m ━━━━━━━━━━━━━━━━━━━━━━━━━━━━━━━━━━━━━━━━━━━━━━━━━━━━━━\u001B[0m\n"
      ],
      "text/html": [
       "<pre style=\"white-space:pre;overflow-x:auto;line-height:normal;font-family:Menlo,'DejaVu Sans Mono',consolas,'Courier New',monospace\"><span style=\"color: #d4b702; text-decoration-color: #d4b702\">━━━━━━━━━━━━━━━━━━━━━━━━━━━━━━━━━━━━━━━━━━━━━━━━━━━━━ </span><span style=\"font-weight: bold\">Step </span><span style=\"color: #008080; text-decoration-color: #008080; font-weight: bold\">1</span><span style=\"color: #d4b702; text-decoration-color: #d4b702\"> ━━━━━━━━━━━━━━━━━━━━━━━━━━━━━━━━━━━━━━━━━━━━━━━━━━━━━━</span>\n",
       "</pre>\n"
      ]
     },
     "metadata": {},
     "output_type": "display_data"
    },
    {
     "data": {
      "text/plain": [
       " ─ \u001B[1mExecuting parsed code:\u001B[0m ──────────────────────────────────────────────────────────────────────────────────────── \n",
       "  \u001B[38;2;248;248;242;48;2;39;40;34mquery\u001B[0m\u001B[38;2;248;248;242;48;2;39;40;34m \u001B[0m\u001B[38;2;255;70;137;48;2;39;40;34m=\u001B[0m\u001B[38;2;248;248;242;48;2;39;40;34m \u001B[0m\u001B[38;2;230;219;116;48;2;39;40;34m\"\u001B[0m\u001B[38;2;230;219;116;48;2;39;40;34msuperhero-themed party ideas for luxury event with entertainment, catering, and decoration options\u001B[0m\u001B[38;2;230;219;116;48;2;39;40;34m\"\u001B[0m\u001B[48;2;39;40;34m   \u001B[0m  \n",
       "  \u001B[38;2;248;248;242;48;2;39;40;34mparty_ideas\u001B[0m\u001B[38;2;248;248;242;48;2;39;40;34m \u001B[0m\u001B[38;2;255;70;137;48;2;39;40;34m=\u001B[0m\u001B[38;2;248;248;242;48;2;39;40;34m \u001B[0m\u001B[38;2;248;248;242;48;2;39;40;34mparty_planning_retriever\u001B[0m\u001B[38;2;248;248;242;48;2;39;40;34m(\u001B[0m\u001B[38;2;248;248;242;48;2;39;40;34mquery\u001B[0m\u001B[38;2;255;70;137;48;2;39;40;34m=\u001B[0m\u001B[38;2;248;248;242;48;2;39;40;34mquery\u001B[0m\u001B[38;2;248;248;242;48;2;39;40;34m)\u001B[0m\u001B[48;2;39;40;34m                                                            \u001B[0m  \n",
       "  \u001B[38;2;248;248;242;48;2;39;40;34mprint\u001B[0m\u001B[38;2;248;248;242;48;2;39;40;34m(\u001B[0m\u001B[38;2;248;248;242;48;2;39;40;34mparty_ideas\u001B[0m\u001B[38;2;248;248;242;48;2;39;40;34m)\u001B[0m\u001B[48;2;39;40;34m                                                                                             \u001B[0m  \n",
       " ───────────────────────────────────────────────────────────────────────────────────────────────────────────────── \n"
      ],
      "text/html": [
       "<pre style=\"white-space:pre;overflow-x:auto;line-height:normal;font-family:Menlo,'DejaVu Sans Mono',consolas,'Courier New',monospace\"> ─ <span style=\"font-weight: bold\">Executing parsed code:</span> ──────────────────────────────────────────────────────────────────────────────────────── \n",
       "  <span style=\"color: #f8f8f2; text-decoration-color: #f8f8f2; background-color: #272822\">query </span><span style=\"color: #ff4689; text-decoration-color: #ff4689; background-color: #272822\">=</span><span style=\"color: #f8f8f2; text-decoration-color: #f8f8f2; background-color: #272822\"> </span><span style=\"color: #e6db74; text-decoration-color: #e6db74; background-color: #272822\">\"superhero-themed party ideas for luxury event with entertainment, catering, and decoration options\"</span><span style=\"background-color: #272822\">   </span>  \n",
       "  <span style=\"color: #f8f8f2; text-decoration-color: #f8f8f2; background-color: #272822\">party_ideas </span><span style=\"color: #ff4689; text-decoration-color: #ff4689; background-color: #272822\">=</span><span style=\"color: #f8f8f2; text-decoration-color: #f8f8f2; background-color: #272822\"> party_planning_retriever(query</span><span style=\"color: #ff4689; text-decoration-color: #ff4689; background-color: #272822\">=</span><span style=\"color: #f8f8f2; text-decoration-color: #f8f8f2; background-color: #272822\">query)</span><span style=\"background-color: #272822\">                                                            </span>  \n",
       "  <span style=\"color: #f8f8f2; text-decoration-color: #f8f8f2; background-color: #272822\">print(party_ideas)</span><span style=\"background-color: #272822\">                                                                                             </span>  \n",
       " ───────────────────────────────────────────────────────────────────────────────────────────────────────────────── \n",
       "</pre>\n"
      ]
     },
     "metadata": {},
     "output_type": "display_data"
    },
    {
     "data": {
      "text/plain": [
       "\u001B[1mExecution logs:\u001B[0m\n",
       "\n",
       "Retrieved ideas:\n",
       "\n",
       "\n",
       "===== Idea 0 =====\n",
       "A superhero-themed masquerade ball with luxury decor, including gold accents and velvet curtains.\n",
       "\n",
       "===== Idea 1 =====\n",
       "Hire a professional DJ who can play themed music for superheroes like Batman and Wonder Woman.\n",
       "\n",
       "===== Idea 2 =====\n",
       "For catering, serve dishes named after superheroes, like 'The Hulk's Green Smoothie' and 'Iron Man's Power Steak.'\n",
       "\n",
       "===== Idea 3 =====\n",
       "Decorate with iconic superhero logos and projections of Gotham and other superhero cities around the venue.\n",
       "\n",
       "===== Idea 4 =====\n",
       "Interactive experiences with VR where guests can engage in superhero simulations or compete in themed games.\n",
       "\n",
       "Out: None\n"
      ],
      "text/html": [
       "<pre style=\"white-space:pre;overflow-x:auto;line-height:normal;font-family:Menlo,'DejaVu Sans Mono',consolas,'Courier New',monospace\"><span style=\"font-weight: bold\">Execution logs:</span>\n",
       "\n",
       "Retrieved ideas:\n",
       "\n",
       "\n",
       "===== Idea 0 =====\n",
       "A superhero-themed masquerade ball with luxury decor, including gold accents and velvet curtains.\n",
       "\n",
       "===== Idea 1 =====\n",
       "Hire a professional DJ who can play themed music for superheroes like Batman and Wonder Woman.\n",
       "\n",
       "===== Idea 2 =====\n",
       "For catering, serve dishes named after superheroes, like 'The Hulk's Green Smoothie' and 'Iron Man's Power Steak.'\n",
       "\n",
       "===== Idea 3 =====\n",
       "Decorate with iconic superhero logos and projections of Gotham and other superhero cities around the venue.\n",
       "\n",
       "===== Idea 4 =====\n",
       "Interactive experiences with VR where guests can engage in superhero simulations or compete in themed games.\n",
       "\n",
       "Out: None\n",
       "</pre>\n"
      ]
     },
     "metadata": {},
     "output_type": "display_data"
    },
    {
     "data": {
      "text/plain": [
       "\u001B[2m[Step 1: Duration 4.88 seconds| Input tokens: 2,099 | Output tokens: 90]\u001B[0m\n"
      ],
      "text/html": [
       "<pre style=\"white-space:pre;overflow-x:auto;line-height:normal;font-family:Menlo,'DejaVu Sans Mono',consolas,'Courier New',monospace\"><span style=\"color: #7f7f7f; text-decoration-color: #7f7f7f\">[Step 1: Duration 4.88 seconds| Input tokens: 2,099 | Output tokens: 90]</span>\n",
       "</pre>\n"
      ]
     },
     "metadata": {},
     "output_type": "display_data"
    },
    {
     "data": {
      "text/plain": [
       "\u001B[38;2;212;183;2m━━━━━━━━━━━━━━━━━━━━━━━━━━━━━━━━━━━━━━━━━━━━━━━━━━━━━ \u001B[0m\u001B[1mStep \u001B[0m\u001B[1;36m2\u001B[0m\u001B[38;2;212;183;2m ━━━━━━━━━━━━━━━━━━━━━━━━━━━━━━━━━━━━━━━━━━━━━━━━━━━━━━\u001B[0m\n"
      ],
      "text/html": [
       "<pre style=\"white-space:pre;overflow-x:auto;line-height:normal;font-family:Menlo,'DejaVu Sans Mono',consolas,'Courier New',monospace\"><span style=\"color: #d4b702; text-decoration-color: #d4b702\">━━━━━━━━━━━━━━━━━━━━━━━━━━━━━━━━━━━━━━━━━━━━━━━━━━━━━ </span><span style=\"font-weight: bold\">Step </span><span style=\"color: #008080; text-decoration-color: #008080; font-weight: bold\">2</span><span style=\"color: #d4b702; text-decoration-color: #d4b702\"> ━━━━━━━━━━━━━━━━━━━━━━━━━━━━━━━━━━━━━━━━━━━━━━━━━━━━━━</span>\n",
       "</pre>\n"
      ]
     },
     "metadata": {},
     "output_type": "display_data"
    },
    {
     "data": {
      "text/plain": [
       " ─ \u001B[1mExecuting parsed code:\u001B[0m ──────────────────────────────────────────────────────────────────────────────────────── \n",
       "  \u001B[38;2;248;248;242;48;2;39;40;34mfinal_answer_variable\u001B[0m\u001B[38;2;248;248;242;48;2;39;40;34m \u001B[0m\u001B[38;2;255;70;137;48;2;39;40;34m=\u001B[0m\u001B[38;2;248;248;242;48;2;39;40;34m \u001B[0m\u001B[38;2;248;248;242;48;2;39;40;34m(\u001B[0m\u001B[48;2;39;40;34m                                                                                      \u001B[0m  \n",
       "  \u001B[38;2;248;248;242;48;2;39;40;34m    \u001B[0m\u001B[38;2;230;219;116;48;2;39;40;34m\"\u001B[0m\u001B[38;2;230;219;116;48;2;39;40;34mEntertainment: Hire a professional DJ for themed superhero music and set up VR experiences for interactive\u001B[0m  \n",
       "  \u001B[38;2;230;219;116;48;2;39;40;34msimulations and games.\u001B[0m\u001B[38;2;174;129;255;48;2;39;40;34m\\n\u001B[0m\u001B[38;2;230;219;116;48;2;39;40;34m\"\u001B[0m\u001B[48;2;39;40;34m                                                                                      \u001B[0m  \n",
       "  \u001B[38;2;248;248;242;48;2;39;40;34m    \u001B[0m\u001B[38;2;230;219;116;48;2;39;40;34m\"\u001B[0m\u001B[38;2;230;219;116;48;2;39;40;34mCatering: Offer superhero-inspired dishes such as \u001B[0m\u001B[38;2;230;219;116;48;2;39;40;34m'\u001B[0m\u001B[38;2;230;219;116;48;2;39;40;34mThe Hulk\u001B[0m\u001B[38;2;230;219;116;48;2;39;40;34m'\u001B[0m\u001B[38;2;230;219;116;48;2;39;40;34ms Green Smoothie\u001B[0m\u001B[38;2;230;219;116;48;2;39;40;34m'\u001B[0m\u001B[38;2;230;219;116;48;2;39;40;34m and \u001B[0m\u001B[38;2;230;219;116;48;2;39;40;34m'\u001B[0m\u001B[38;2;230;219;116;48;2;39;40;34mIron Man\u001B[0m\u001B[38;2;230;219;116;48;2;39;40;34m'\u001B[0m\u001B[38;2;230;219;116;48;2;39;40;34ms Power \u001B[0m\u001B[48;2;39;40;34m      \u001B[0m  \n",
       "  \u001B[38;2;230;219;116;48;2;39;40;34mSteak\u001B[0m\u001B[38;2;230;219;116;48;2;39;40;34m'\u001B[0m\u001B[38;2;230;219;116;48;2;39;40;34m.\u001B[0m\u001B[38;2;174;129;255;48;2;39;40;34m\\n\u001B[0m\u001B[38;2;230;219;116;48;2;39;40;34m\"\u001B[0m\u001B[48;2;39;40;34m                                                                                                     \u001B[0m  \n",
       "  \u001B[38;2;248;248;242;48;2;39;40;34m    \u001B[0m\u001B[38;2;230;219;116;48;2;39;40;34m\"\u001B[0m\u001B[38;2;230;219;116;48;2;39;40;34mDecorations: Decorate with luxurious decor including gold accents, velvet curtains, iconic superhero \u001B[0m\u001B[48;2;39;40;34m     \u001B[0m  \n",
       "  \u001B[38;2;230;219;116;48;2;39;40;34mlogos, and projections of Gotham and other superhero cities.\u001B[0m\u001B[38;2;230;219;116;48;2;39;40;34m\"\u001B[0m\u001B[48;2;39;40;34m                                                  \u001B[0m  \n",
       "  \u001B[38;2;248;248;242;48;2;39;40;34m)\u001B[0m\u001B[48;2;39;40;34m                                                                                                              \u001B[0m  \n",
       "  \u001B[38;2;248;248;242;48;2;39;40;34mfinal_answer\u001B[0m\u001B[38;2;248;248;242;48;2;39;40;34m(\u001B[0m\u001B[38;2;248;248;242;48;2;39;40;34mfinal_answer_variable\u001B[0m\u001B[38;2;248;248;242;48;2;39;40;34m)\u001B[0m\u001B[48;2;39;40;34m                                                                            \u001B[0m  \n",
       " ───────────────────────────────────────────────────────────────────────────────────────────────────────────────── \n"
      ],
      "text/html": [
       "<pre style=\"white-space:pre;overflow-x:auto;line-height:normal;font-family:Menlo,'DejaVu Sans Mono',consolas,'Courier New',monospace\"> ─ <span style=\"font-weight: bold\">Executing parsed code:</span> ──────────────────────────────────────────────────────────────────────────────────────── \n",
       "  <span style=\"color: #f8f8f2; text-decoration-color: #f8f8f2; background-color: #272822\">final_answer_variable </span><span style=\"color: #ff4689; text-decoration-color: #ff4689; background-color: #272822\">=</span><span style=\"color: #f8f8f2; text-decoration-color: #f8f8f2; background-color: #272822\"> (</span><span style=\"background-color: #272822\">                                                                                      </span>  \n",
       "  <span style=\"color: #f8f8f2; text-decoration-color: #f8f8f2; background-color: #272822\">    </span><span style=\"color: #e6db74; text-decoration-color: #e6db74; background-color: #272822\">\"Entertainment: Hire a professional DJ for themed superhero music and set up VR experiences for interactive</span>  \n",
       "  <span style=\"color: #e6db74; text-decoration-color: #e6db74; background-color: #272822\">simulations and games.</span><span style=\"color: #ae81ff; text-decoration-color: #ae81ff; background-color: #272822\">\\n</span><span style=\"color: #e6db74; text-decoration-color: #e6db74; background-color: #272822\">\"</span><span style=\"background-color: #272822\">                                                                                      </span>  \n",
       "  <span style=\"color: #f8f8f2; text-decoration-color: #f8f8f2; background-color: #272822\">    </span><span style=\"color: #e6db74; text-decoration-color: #e6db74; background-color: #272822\">\"Catering: Offer superhero-inspired dishes such as 'The Hulk's Green Smoothie' and 'Iron Man's Power </span><span style=\"background-color: #272822\">      </span>  \n",
       "  <span style=\"color: #e6db74; text-decoration-color: #e6db74; background-color: #272822\">Steak'.</span><span style=\"color: #ae81ff; text-decoration-color: #ae81ff; background-color: #272822\">\\n</span><span style=\"color: #e6db74; text-decoration-color: #e6db74; background-color: #272822\">\"</span><span style=\"background-color: #272822\">                                                                                                     </span>  \n",
       "  <span style=\"color: #f8f8f2; text-decoration-color: #f8f8f2; background-color: #272822\">    </span><span style=\"color: #e6db74; text-decoration-color: #e6db74; background-color: #272822\">\"Decorations: Decorate with luxurious decor including gold accents, velvet curtains, iconic superhero </span><span style=\"background-color: #272822\">     </span>  \n",
       "  <span style=\"color: #e6db74; text-decoration-color: #e6db74; background-color: #272822\">logos, and projections of Gotham and other superhero cities.\"</span><span style=\"background-color: #272822\">                                                  </span>  \n",
       "  <span style=\"color: #f8f8f2; text-decoration-color: #f8f8f2; background-color: #272822\">)</span><span style=\"background-color: #272822\">                                                                                                              </span>  \n",
       "  <span style=\"color: #f8f8f2; text-decoration-color: #f8f8f2; background-color: #272822\">final_answer(final_answer_variable)</span><span style=\"background-color: #272822\">                                                                            </span>  \n",
       " ───────────────────────────────────────────────────────────────────────────────────────────────────────────────── \n",
       "</pre>\n"
      ]
     },
     "metadata": {},
     "output_type": "display_data"
    },
    {
     "data": {
      "text/plain": [
       "\u001B[1;38;2;212;183;2mOut - Final answer: Entertainment: Hire a professional DJ for themed superhero music and set up VR experiences for \u001B[0m\n",
       "\u001B[1;38;2;212;183;2minteractive simulations and games.\u001B[0m\n",
       "\u001B[1;38;2;212;183;2mCatering: Offer superhero-inspired dishes such as 'The Hulk's Green Smoothie' and 'Iron Man's Power Steak'.\u001B[0m\n",
       "\u001B[1;38;2;212;183;2mDecorations: Decorate with luxurious decor including gold accents, velvet curtains, iconic superhero logos, and \u001B[0m\n",
       "\u001B[1;38;2;212;183;2mprojections of Gotham and other superhero cities.\u001B[0m\n"
      ],
      "text/html": [
       "<pre style=\"white-space:pre;overflow-x:auto;line-height:normal;font-family:Menlo,'DejaVu Sans Mono',consolas,'Courier New',monospace\"><span style=\"color: #d4b702; text-decoration-color: #d4b702; font-weight: bold\">Out - Final answer: Entertainment: Hire a professional DJ for themed superhero music and set up VR experiences for </span>\n",
       "<span style=\"color: #d4b702; text-decoration-color: #d4b702; font-weight: bold\">interactive simulations and games.</span>\n",
       "<span style=\"color: #d4b702; text-decoration-color: #d4b702; font-weight: bold\">Catering: Offer superhero-inspired dishes such as 'The Hulk's Green Smoothie' and 'Iron Man's Power Steak'.</span>\n",
       "<span style=\"color: #d4b702; text-decoration-color: #d4b702; font-weight: bold\">Decorations: Decorate with luxurious decor including gold accents, velvet curtains, iconic superhero logos, and </span>\n",
       "<span style=\"color: #d4b702; text-decoration-color: #d4b702; font-weight: bold\">projections of Gotham and other superhero cities.</span>\n",
       "</pre>\n"
      ]
     },
     "metadata": {},
     "output_type": "display_data"
    },
    {
     "data": {
      "text/plain": [
       "\u001B[2m[Step 2: Duration 6.83 seconds| Input tokens: 4,525 | Output tokens: 222]\u001B[0m\n"
      ],
      "text/html": [
       "<pre style=\"white-space:pre;overflow-x:auto;line-height:normal;font-family:Menlo,'DejaVu Sans Mono',consolas,'Courier New',monospace\"><span style=\"color: #7f7f7f; text-decoration-color: #7f7f7f\">[Step 2: Duration 6.83 seconds| Input tokens: 4,525 | Output tokens: 222]</span>\n",
       "</pre>\n"
      ]
     },
     "metadata": {},
     "output_type": "display_data"
    },
    {
     "name": "stdout",
     "output_type": "stream",
     "text": [
      "Entertainment: Hire a professional DJ for themed superhero music and set up VR experiences for interactive simulations and games.\n",
      "Catering: Offer superhero-inspired dishes such as 'The Hulk's Green Smoothie' and 'Iron Man's Power Steak'.\n",
      "Decorations: Decorate with luxurious decor including gold accents, velvet curtains, iconic superhero logos, and projections of Gotham and other superhero cities.\n"
     ]
    }
   ],
   "execution_count": 1
  }
 ],
 "metadata": {
  "kernelspec": {
   "display_name": "Python 3",
   "language": "python",
   "name": "python3"
  },
  "language_info": {
   "codemirror_mode": {
    "name": "ipython",
    "version": 2
   },
   "file_extension": ".py",
   "mimetype": "text/x-python",
   "name": "python",
   "nbconvert_exporter": "python",
   "pygments_lexer": "ipython2",
   "version": "2.7.6"
  }
 },
 "nbformat": 4,
 "nbformat_minor": 5
}
