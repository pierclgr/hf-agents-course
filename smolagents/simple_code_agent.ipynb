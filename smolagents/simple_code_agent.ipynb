{
 "cells": [
  {
   "cell_type": "markdown",
   "metadata": {},
   "source": []
  },
  {
   "cell_type": "markdown",
   "metadata": {},
   "source": [
    "# Simple Code Agent\n",
    "Perform login to HuggingFace Hub."
   ]
  },
  {
   "cell_type": "code",
   "metadata": {},
   "source": [
    "from huggingface_hub import notebook_login\n",
    "\n",
    "notebook_login()"
   ],
   "outputs": [],
   "execution_count": null
  },
  {
   "cell_type": "markdown",
   "metadata": {},
   "source": [
    "## Playlist\n",
    "Search for music recommendation to build a party playlist on DuckDuckGo."
   ]
  },
  {
   "cell_type": "code",
   "metadata": {},
   "source": [
    "from smolagents import CodeAgent, DuckDuckGoSearchTool, HfApiModel\n",
    "\n",
    "agent = CodeAgent(tools=[DuckDuckGoSearchTool()], model=HfApiModel())\n",
    "\n",
    "agent.run(\"Search for the best music recommendations for a party at the Wayne's mansion.\")"
   ],
   "outputs": [],
   "execution_count": null
  },
  {
   "cell_type": "markdown",
   "metadata": {},
   "source": [
    "## Menu\n",
    "Create a menu to prepare."
   ]
  },
  {
   "cell_type": "code",
   "metadata": {},
   "source": [
    "from smolagents import CodeAgent, tool, HfApiModel\n",
    "\n",
    "\n",
    "# define a custom tool that suggests the menu based on the occasion\n",
    "@tool\n",
    "def suggest_menu(occasion: str) -> str:\n",
    "    \"\"\"Returns a menu suggestion based on the occasion.\n",
    "\n",
    "    Args:\n",
    "        occasion: str, the occasion name. Supported values are \"casual\", \"formal\",\n",
    "            and \"superhero\".\n",
    "\n",
    "    Returns:\n",
    "        str, the suggested menu.\n",
    "    \"\"\"\n",
    "    if occasion == \"casual\":\n",
    "        return \"Pizza, snacks, and drinks.\"\n",
    "    elif occasion == \"formal\":\n",
    "        return \"3-course dinner with wine and dessert.\"\n",
    "    elif occasion == \"superhero\":\n",
    "        return \"Buffet with high-energy and healthy food.\"\n",
    "    else:\n",
    "        return \"custom menu for the butler.\"\n",
    "\n",
    "\n",
    "# create the agent creating the menu\n",
    "agent = CodeAgent(tools=[suggest_menu], model=HfApiModel())\n",
    "\n",
    "# prepare the menu for the party\n",
    "agent.run(\"Prepare a formal menu for the party.\")"
   ],
   "outputs": [],
   "execution_count": null
  },
  {
   "cell_type": "markdown",
   "metadata": {},
   "source": [
    "## Prepare everything for the party\n",
    "Prepare everything for the party."
   ]
  },
  {
   "cell_type": "code",
   "metadata": {},
   "source": [
    "from smolagents import CodeAgent, HfApiModel\n",
    "import numpy as np\n",
    "import time\n",
    "import datetime\n",
    "\n",
    "agent = CodeAgent(tools=[], model=HfApiModel(), additional_authorized_imports=[\"datetime\"])\n",
    "\n",
    "agent.run(\n",
    "    \"\"\"\n",
    "    Alfred needs to prepare for the party. Here are the tasks:\n",
    "    1. Prepare the drinks - 30 minutes\n",
    "    2. Decorate the mansion - 60 minutes\n",
    "    3. Set up the menu - 45 minutes\n",
    "    4. Prepare the music and playlist - 45 minutes\n",
    "\n",
    "    If we start right now, at what time will the party be ready?\n",
    "    \"\"\"\n",
    ")"
   ],
   "outputs": [],
   "execution_count": null
  },
  {
   "cell_type": "markdown",
   "metadata": {},
   "source": [
    "## Upload agent\n",
    "Push agent to hub"
   ]
  },
  {
   "cell_type": "code",
   "metadata": {},
   "source": [
    "agent.push_to_hub(\"pierclgr/AlfredAgent\")"
   ],
   "outputs": [],
   "execution_count": null
  },
  {
   "cell_type": "markdown",
   "metadata": {},
   "source": [
    "## Download agent\n",
    "Download agent from HF Hub and execute it."
   ]
  },
  {
   "cell_type": "code",
   "metadata": {},
   "source": [
    "alfred_agent = agent.from_hub(\"pierclgr/AlfredAgent\", trust_remote_code=True)\n",
    "alfred_agent.run(\n",
    "    \"Give me the best playlist for a party at Wayne's mansion. The party idea is a 'villain masquerade' theme\")"
   ],
   "outputs": [],
   "execution_count": null
  },
  {
   "cell_type": "markdown",
   "metadata": {},
   "source": [
    "## Create party planning Agent\n",
    "Create a complete party planning agent with many tools."
   ]
  },
  {
   "cell_type": "code",
   "metadata": {},
   "source": [
    "from smolagents import CodeAgent, DuckDuckGoSearchTool, FinalAnswerTool, HfApiModel, Tool, tool, VisitWebpageTool\n",
    "\n",
    "\n",
    "@tool\n",
    "def suggest_menu(occasion: str) -> str:\n",
    "    \"\"\"Returns a menu suggestion based on the occasion.\n",
    "\n",
    "    Args:\n",
    "        occasion (str): The occasion name. Supported values are \"casual\", \"formal\",\n",
    "            and \"superhero\".\n",
    "\n",
    "    Returns:\n",
    "        str: The suggested menu.\n",
    "    \"\"\"\n",
    "    if occasion == \"casual\":\n",
    "        return \"Pizza, snacks, and drinks.\"\n",
    "    elif occasion == \"formal\":\n",
    "        return \"3-course dinner with wine and dessert.\"\n",
    "    elif occasion == \"superhero\":\n",
    "        return \"Buffet with high-energy and healthy food.\"\n",
    "    else:\n",
    "        return \"Custom menu for the butler.\"\n",
    "\n",
    "\n",
    "@tool\n",
    "def catering_service_tool(query: str) -> str:\n",
    "    \"\"\"Returns the highest rated catering service in Gotham City.\n",
    "\n",
    "    Args:\n",
    "        query (str): The search query.\n",
    "\n",
    "    Returns:\n",
    "        str: The highest rated catering service.\n",
    "    \"\"\"\n",
    "    # example list of catering services and their ratings\n",
    "    services = {\n",
    "        \"Gotham Catering Co.\": 4.9,\n",
    "        \"Wayne Manor Catering\": 4.8,\n",
    "        \"Gotham City Events\": 4.7\n",
    "    }\n",
    "\n",
    "    # find the highest rated catering service (simulating search query filtering)\n",
    "    best_service = max(services, key=services.get)\n",
    "\n",
    "    return best_service\n",
    "\n",
    "\n",
    "class SuperheroPartyThemeTool(Tool):\n",
    "    \"\"\"\n",
    "    A tool that suggests creative superhero-themed party ideas based on a category.\n",
    "\n",
    "    Attributes:\n",
    "        name (str): The name of the tool.\n",
    "        description (str): A brief description of the tool.\n",
    "        inputs (dict): A dictionary describing the input parameters.\n",
    "        output_type (str): The type of the output.\n",
    "\n",
    "    \"\"\"\n",
    "\n",
    "    name = \"superhero_party_theme_generator\"\n",
    "    description = \"\"\"\n",
    "    This tool suggests creative superhero-themed party ideas based on a category.\n",
    "    It returns a unique party theme idea.\"\"\"\n",
    "\n",
    "    inputs = {\n",
    "        \"category\": {\n",
    "            \"type\": \"string\",\n",
    "            \"description\": \"The type of superhero party (e.g., 'classic heroes', 'villain masquerade', 'futuristic Gotham').\",\n",
    "        }\n",
    "    }\n",
    "\n",
    "    output_type = \"string\"\n",
    "\n",
    "    def forward(self, category: str):\n",
    "        \"\"\"\n",
    "        Generates a superhero-themed party idea based on the given category.\n",
    "\n",
    "        Args:\n",
    "            category (str): The type of superhero party.\n",
    "\n",
    "        Returns:\n",
    "            str: A unique party theme idea.\n",
    "        \"\"\"\n",
    "        themes = {\n",
    "            \"classic heroes\": \"Justice League Gala: Guests come dressed as their favorite DC heroes with themed cocktails like 'The Kryptonite Punch'.\",\n",
    "            \"villain masquerade\": \"Gotham Rogues' Ball: A mysterious masquerade where guests dress as classic Batman villains.\",\n",
    "            \"futuristic Gotham\": \"Neo-Gotham Night: A cyberpunk-style party inspired by Batman Beyond, with neon decorations and futuristic gadgets.\"\n",
    "        }\n",
    "\n",
    "        return themes.get(category.lower(),\n",
    "                          \"Themed party idea not found. Try 'classic heroes', 'villain masquerade', or 'futuristic Gotham'.\")\n",
    "\n",
    "\n",
    "agent = CodeAgent(\n",
    "    tools=[\n",
    "        DuckDuckGoSearchTool(),\n",
    "        VisitWebpageTool(),\n",
    "        suggest_menu,\n",
    "        catering_service_tool,\n",
    "        SuperheroPartyThemeTool()\n",
    "    ],\n",
    "    model=HfApiModel(),\n",
    "    max_steps=10,\n",
    "    verbosity_level=2\n",
    ")\n",
    "\n",
    "agent.run(\n",
    "    \"Give me the best playlist for a party at the Wayne's mansion. The party idea is a 'villain masquerade' theme\")"
   ],
   "outputs": [],
   "execution_count": null
  },
  {
   "metadata": {},
   "cell_type": "markdown",
   "source": [
    "## Agent inspection\n",
    "Inspect the agent"
   ]
  },
  {
   "cell_type": "code",
   "metadata": {},
   "source": [
    "import os\n",
    "import base64\n",
    "\n",
    "LANGFUSE_PUBLIC_KEY = \"pk-...\"  # insert you langfuse public key\n",
    "LANGFUSE_SECRET_KEY = \"sk-...\"  # insert you langfuse secret key\n",
    "LANGFUSE_AUTH = base64.b64encode(f\"{LANGFUSE_PUBLIC_KEY}:{LANGFUSE_SECRET_KEY}\".encode()).decode()\n",
    "\n",
    "os.environ[\"OTEL_EXPORTER_OTLP_ENDPOINT\"] = \"https://cloud.langfuse.com/api/public/otel\"  # EU data region\n",
    "# os.environ[\"OTEL_EXPORTER_OTLP_ENDPOINT\"] = \"https://us.cloud.langfuse.com/api/public/otel\" # US data region\n",
    "os.environ[\"OTEL_EXPORTER_OTLP_HEADERS\"] = f\"Authorization=Basic {LANGFUSE_AUTH}\"\n",
    "\n",
    "os.environ[\"HF_TOKEN\"] = \"hf_...\"  # insert you hugging face token\n"
   ],
   "outputs": [],
   "execution_count": null
  },
  {
   "metadata": {},
   "cell_type": "markdown",
   "source": "Track agent performances"
  },
  {
   "metadata": {},
   "cell_type": "code",
   "source": [
    "from opentelemetry.sdk.trace import TracerProvider\n",
    "from openinference.instrumentation.smolagents import SmolagentsInstrumentor\n",
    "from opentelemetry.exporter.otlp.proto.http.trace_exporter import OTLPSpanExporter\n",
    "from opentelemetry.sdk.trace.export import SimpleSpanProcessor\n",
    "\n",
    "trace_provider = TracerProvider()\n",
    "trace_provider.add_span_processor(SimpleSpanProcessor(OTLPSpanExporter()))\n",
    "\n",
    "SmolagentsInstrumentor().instrument(tracer_provider=trace_provider)"
   ],
   "outputs": [],
   "execution_count": null
  },
  {
   "metadata": {},
   "cell_type": "markdown",
   "source": "Run the agent and perform the tracing of performances"
  },
  {
   "metadata": {},
   "cell_type": "code",
   "source": [
    "from smolagents import CodeAgent, HfApiModel\n",
    "\n",
    "agent = CodeAgent(tools=[], model=HfApiModel())\n",
    "\n",
    "alfred_agent = agent.from_hub('pierclgr/AlfredAgent', trust_remote_code=True)\n",
    "alfred_agent.run(\n",
    "    \"Give me the best playlist for a party at Wayne's mansion. The party idea is a 'villain masquerade' theme\")"
   ],
   "outputs": [],
   "execution_count": null
  },
  {
   "metadata": {},
   "cell_type": "code",
   "source": "",
   "outputs": [],
   "execution_count": null
  }
 ],
 "metadata": {
  "kernelspec": {
   "display_name": "venv",
   "language": "python",
   "name": "python3"
  },
  "language_info": {
   "codemirror_mode": {
    "name": "ipython",
    "version": 3
   },
   "file_extension": ".py",
   "mimetype": "text/x-python",
   "name": "python",
   "nbconvert_exporter": "python",
   "pygments_lexer": "ipython3",
   "version": "3.13.0"
  }
 },
 "nbformat": 4,
 "nbformat_minor": 2
}
