{
 "cells": [
  {
   "metadata": {},
   "cell_type": "markdown",
   "source": [
    "# Tool Calling Agents\n",
    "Let's write a simple tool calling agent searching a playlist on DuckDuckGo."
   ],
   "id": "d9d8f93cf95bbc8f"
  },
  {
   "metadata": {},
   "cell_type": "code",
   "source": [
    "from smolagents import ToolCallingAgent, DuckDuckGoSearchTool, HfApiModel\n",
    "\n",
    "agent = ToolCallingAgent(\n",
    "    tools=[DuckDuckGoSearchTool()],\n",
    "    model=HfApiModel()\n",
    ")\n",
    "\n",
    "agent.run(\"Search for the best music recommendations for a party at the Wayne's mansion.\")"
   ],
   "id": "cb9f28ebc85d4a07",
   "outputs": [],
   "execution_count": null
  },
  {
   "metadata": {},
   "cell_type": "markdown",
   "source": [
    "## Custom tools\n",
    "Let's define a tool with ```@tool``` decorator."
   ],
   "id": "1e7e74a954e8d146"
  },
  {
   "metadata": {},
   "cell_type": "code",
   "source": [
    "from smolagents import ToolCallingAgent, HfApiModel, tool\n",
    "\n",
    "# function fetching the highest-rated catering services (simulating search query filtering)\n",
    "@tool\n",
    "def catering_service_tool(query: str) -> str:\n",
    "    \"\"\"\n",
    "    This tool returns the highest-rated catering service in Gotham City.\n",
    "    \n",
    "    Args:\n",
    "        query: A search term for finding catering services.\n",
    "    \"\"\"\n",
    "    \n",
    "    # dummy example list of catering services and ratings\n",
    "    services =  {\n",
    "        \"Gotham Catering Co.\": 4.9,\n",
    "        \"Wayne Manor Catering\": 4.8,\n",
    "        \"Gotham City Events\": 4.7\n",
    "    }\n",
    "    \n",
    "    # find the highest rated catering service (simulating search query filtering)\n",
    "    best_service = max(services, key=services.get)\n",
    "    \n",
    "    return best_service\n",
    "\n",
    "\n",
    "agent = ToolCallingAgent(tools=[catering_service_tool], model=HfApiModel())\n",
    "result = agent.run(\"Can you give me the name of the highest-rated catering service in Gotham City?\")\n",
    "\n",
    "print(result)"
   ],
   "id": "f2bf636ae0cce0a2",
   "outputs": [],
   "execution_count": null
  },
  {
   "metadata": {},
   "cell_type": "markdown",
   "source": "Now let's define a tool as subclass of ```Tool``` Python class.",
   "id": "30cf2d897b3e6da9"
  },
  {
   "metadata": {},
   "cell_type": "code",
   "source": [
    "from smolagents import ToolCallingAgent, HfApiModel, Tool\n",
    "\n",
    "class SuperheroPartyThemeTool(Tool):\n",
    "    name = \"superhero_party_theme_generator\"\n",
    "    description = \"\"\"\n",
    "    This tool suggests creative superhero-themed party ideas based on a category.\n",
    "    It returns a unique party theme idea.\n",
    "    \"\"\"\n",
    "    \n",
    "    inputs = {\n",
    "        \"category\": {\n",
    "            \"type\": \"string\",\n",
    "            \"description\": \"The category of the party, e.g., 'casual', 'formal', or 'superhero'.\"\n",
    "        }\n",
    "    }\n",
    "    \n",
    "    output_type = \"string\"\n",
    "    \n",
    "    def forward(self, category: str) -> str:\n",
    "        themes = {\n",
    "            \"classic heroes\": \"Justice League Gala: Guests come dressed as their favorite DC heroes with themed cocktails like 'The Kryptonite Punch'.\",\n",
    "            \"villain masquerade\": \"Gotham Rogues' Ball: A mysterious masquerade where guests dress as classic Batman villains.\",\n",
    "            \"futuristic Gotham\": \"Neo-Gotham Night: A cyberpunk-style party inspired by Batman Beyond, with neon decorations and futuristic gadgets.\"\n",
    "        }\n",
    "        \n",
    "        return themes.get(category.lower(), \n",
    "                          \"Themed party idea not found. Try 'classic heroes', 'villain masquerade', or 'futuristic Gotham'.\")\n",
    "    \n",
    "party_theme_tool = SuperheroPartyThemeTool()\n",
    "agent = ToolCallingAgent(tools=[party_theme_tool], model=HfApiModel())\n",
    "\n",
    "result = agent.run(\n",
    "    \"What would be a good superhero party idea for a 'villain masquerade' theme?\"\n",
    ")\n",
    "\n",
    "print(result)"
   ],
   "id": "7e2923456c1407e7",
   "outputs": [],
   "execution_count": null
  },
  {
   "metadata": {},
   "cell_type": "markdown",
   "source": "Let's now share our custom tool to HuggingFace hub.",
   "id": "a0c803a2ee4b032b"
  },
  {
   "metadata": {},
   "cell_type": "code",
   "source": "party_theme_tool.push_to_hub(\"pierclgr/party_theme_tool\", token=\"hf_...\")  # replace with your token",
   "id": "9b650cd2c1e7e757",
   "outputs": [],
   "execution_count": null
  },
  {
   "metadata": {},
   "cell_type": "markdown",
   "source": "Let's then import a tool from the hub.",
   "id": "b49dfdc41ed474d0"
  },
  {
   "metadata": {},
   "cell_type": "code",
   "source": [
    "from smolagents import load_tool, ToolCallingAgent, HfApiModel\n",
    "\n",
    "image_generation_tool = load_tool(\n",
    "    \"m-ric/text-to-image\",\n",
    "    trust_remote_code=True\n",
    ")\n",
    "\n",
    "agent = ToolCallingAgent(\n",
    "    tools=[image_generation_tool],\n",
    "    model=HfApiModel()\n",
    ")\n",
    "\n",
    "agent.run(\"Generate an image of a luxurious superhero-themed party at Wayne Manor with made-up superheros.\")"
   ],
   "id": "54ad9dad5b98396e",
   "outputs": [],
   "execution_count": null
  },
  {
   "metadata": {},
   "cell_type": "markdown",
   "source": "Let's also import a HF Space as a tool.",
   "id": "cd54749d9e6ec95e"
  },
  {
   "metadata": {},
   "cell_type": "code",
   "source": [
    "from smolagents import ToolCallingAgent, HfApiModel, Tool\n",
    "\n",
    "image_generation_tool = Tool.from_hub(\n",
    "    \"black-forest-labs/FLUX.1-schnell\",\n",
    "    name=\"image_generator\",\n",
    "    description=\"Generate an image from a prompt\",\n",
    "    trust_remote_code=True\n",
    ")\n",
    "\n",
    "model = HfApiModel(\"Qwen/Quen2.5-Coder-32B-Instruct\")\n",
    "\n",
    "agent = ToolCallingAgent(\n",
    "    tools=[image_generation_tool],\n",
    "    model=model\n",
    ")\n",
    "\n",
    "agent.run(\"Improve this prompt, then generate an image of it.\",\n",
    "          additional_args={\"user_prompt\": \"A grand superhero-themed party at Wayne Manor, with Alfred overseeing a luxurious gala\"})"
   ],
   "id": "9381cfb435b63cb1",
   "outputs": [],
   "execution_count": null
  },
  {
   "metadata": {},
   "cell_type": "markdown",
   "source": [
    "## Import LangChain tools\n",
    "Let's now import a LangChain tool."
   ],
   "id": "58f5f1487c915d1b"
  },
  {
   "metadata": {
    "ExecuteTime": {
     "end_time": "2025-03-17T23:18:10.572121Z",
     "start_time": "2025-03-17T23:18:09.524997Z"
    }
   },
   "cell_type": "code",
   "source": [
    "from langchain.agents import load_tools\n",
    "from smolagents import ToolCallingAgent, HfApiModel, Tool\n",
    "\n",
    "search_tool = Tool.from_langchain(load_tools([\"serpapi\"])[0])\n",
    "agent = ToolCallingAgent(tools=[search_tool], model=HfApiModel())\n",
    "agent.run(\"Search for luxury entertainment ideas for a superhero-themed event, such as live performances and interactive experiences.\")"
   ],
   "id": "ba77f33d1d86323b",
   "outputs": [
    {
     "ename": "ValidationError",
     "evalue": "1 validation error for SerpAPIWrapper\n  Value error, Did not find serpapi_api_key, please add an environment variable `SERPAPI_API_KEY` which contains it, or pass `serpapi_api_key` as a named parameter. [type=value_error, input_value={}, input_type=dict]\n    For further information visit https://errors.pydantic.dev/2.10/v/value_error",
     "output_type": "error",
     "traceback": [
      "\u001B[31m---------------------------------------------------------------------------\u001B[39m",
      "\u001B[31mValidationError\u001B[39m                           Traceback (most recent call last)",
      "\u001B[36mCell\u001B[39m\u001B[36m \u001B[39m\u001B[32mIn[1]\u001B[39m\u001B[32m, line 4\u001B[39m\n\u001B[32m      1\u001B[39m \u001B[38;5;28;01mfrom\u001B[39;00m\u001B[38;5;250m \u001B[39m\u001B[34;01mlangchain\u001B[39;00m\u001B[34;01m.\u001B[39;00m\u001B[34;01magents\u001B[39;00m\u001B[38;5;250m \u001B[39m\u001B[38;5;28;01mimport\u001B[39;00m load_tools\n\u001B[32m      2\u001B[39m \u001B[38;5;28;01mfrom\u001B[39;00m\u001B[38;5;250m \u001B[39m\u001B[34;01msmolagents\u001B[39;00m\u001B[38;5;250m \u001B[39m\u001B[38;5;28;01mimport\u001B[39;00m ToolCallingAgent, HfApiModel, Tool\n\u001B[32m----> \u001B[39m\u001B[32m4\u001B[39m search_tool = Tool.from_langchain(\u001B[43mload_tools\u001B[49m\u001B[43m(\u001B[49m\u001B[43m[\u001B[49m\u001B[33;43m\"\u001B[39;49m\u001B[33;43mserpapi\u001B[39;49m\u001B[33;43m\"\u001B[39;49m\u001B[43m]\u001B[49m\u001B[43m)\u001B[49m[\u001B[32m0\u001B[39m])\n\u001B[32m      5\u001B[39m agent = ToolCallingAgent(tools=[search_tool], model=HfApiModel())\n\u001B[32m      6\u001B[39m agent.run(\u001B[33m\"\u001B[39m\u001B[33mSearch for luxury entertainment ideas for a superhero-themed event, such as live performances and interactive experiences.\u001B[39m\u001B[33m\"\u001B[39m)\n",
      "\u001B[36mFile \u001B[39m\u001B[32m~/PyCharm Projects/hf-agents-course/venv/lib/python3.13/site-packages/langchain_community/agent_toolkits/load_tools.py:753\u001B[39m, in \u001B[36mload_tools\u001B[39m\u001B[34m(tool_names, llm, callbacks, allow_dangerous_tools, **kwargs)\u001B[39m\n\u001B[32m    751\u001B[39m     _get_tool_func, extra_keys = _EXTRA_OPTIONAL_TOOLS[name]\n\u001B[32m    752\u001B[39m     sub_kwargs = {k: kwargs[k] \u001B[38;5;28;01mfor\u001B[39;00m k \u001B[38;5;129;01min\u001B[39;00m extra_keys \u001B[38;5;28;01mif\u001B[39;00m k \u001B[38;5;129;01min\u001B[39;00m kwargs}\n\u001B[32m--> \u001B[39m\u001B[32m753\u001B[39m     tool = \u001B[43m_get_tool_func\u001B[49m\u001B[43m(\u001B[49m\u001B[43m*\u001B[49m\u001B[43m*\u001B[49m\u001B[43msub_kwargs\u001B[49m\u001B[43m)\u001B[49m\n\u001B[32m    754\u001B[39m     tools.append(tool)\n\u001B[32m    755\u001B[39m \u001B[38;5;28;01melse\u001B[39;00m:\n",
      "\u001B[36mFile \u001B[39m\u001B[32m~/PyCharm Projects/hf-agents-course/venv/lib/python3.13/site-packages/langchain_community/agent_toolkits/load_tools.py:387\u001B[39m, in \u001B[36m_get_serpapi\u001B[39m\u001B[34m(**kwargs)\u001B[39m\n\u001B[32m    383\u001B[39m \u001B[38;5;28;01mdef\u001B[39;00m\u001B[38;5;250m \u001B[39m\u001B[34m_get_serpapi\u001B[39m(**kwargs: Any) -> BaseTool:\n\u001B[32m    384\u001B[39m     \u001B[38;5;28;01mreturn\u001B[39;00m Tool(\n\u001B[32m    385\u001B[39m         name=\u001B[33m\"\u001B[39m\u001B[33mSearch\u001B[39m\u001B[33m\"\u001B[39m,\n\u001B[32m    386\u001B[39m         description=\u001B[33m\"\u001B[39m\u001B[33mA search engine. Useful for when you need to answer questions about current events. Input should be a search query.\u001B[39m\u001B[33m\"\u001B[39m,\n\u001B[32m--> \u001B[39m\u001B[32m387\u001B[39m         func=\u001B[43mSerpAPIWrapper\u001B[49m\u001B[43m(\u001B[49m\u001B[43m*\u001B[49m\u001B[43m*\u001B[49m\u001B[43mkwargs\u001B[49m\u001B[43m)\u001B[49m.run,\n\u001B[32m    388\u001B[39m         coroutine=SerpAPIWrapper(**kwargs).arun,\n\u001B[32m    389\u001B[39m     )\n",
      "\u001B[36mFile \u001B[39m\u001B[32m~/PyCharm Projects/hf-agents-course/venv/lib/python3.13/site-packages/pydantic/main.py:214\u001B[39m, in \u001B[36mBaseModel.__init__\u001B[39m\u001B[34m(self, **data)\u001B[39m\n\u001B[32m    212\u001B[39m \u001B[38;5;66;03m# `__tracebackhide__` tells pytest and some other tools to omit this function from tracebacks\u001B[39;00m\n\u001B[32m    213\u001B[39m __tracebackhide__ = \u001B[38;5;28;01mTrue\u001B[39;00m\n\u001B[32m--> \u001B[39m\u001B[32m214\u001B[39m validated_self = \u001B[38;5;28;43mself\u001B[39;49m\u001B[43m.\u001B[49m\u001B[43m__pydantic_validator__\u001B[49m\u001B[43m.\u001B[49m\u001B[43mvalidate_python\u001B[49m\u001B[43m(\u001B[49m\u001B[43mdata\u001B[49m\u001B[43m,\u001B[49m\u001B[43m \u001B[49m\u001B[43mself_instance\u001B[49m\u001B[43m=\u001B[49m\u001B[38;5;28;43mself\u001B[39;49m\u001B[43m)\u001B[49m\n\u001B[32m    215\u001B[39m \u001B[38;5;28;01mif\u001B[39;00m \u001B[38;5;28mself\u001B[39m \u001B[38;5;129;01mis\u001B[39;00m \u001B[38;5;129;01mnot\u001B[39;00m validated_self:\n\u001B[32m    216\u001B[39m     warnings.warn(\n\u001B[32m    217\u001B[39m         \u001B[33m'\u001B[39m\u001B[33mA custom validator is returning a value other than `self`.\u001B[39m\u001B[38;5;130;01m\\n\u001B[39;00m\u001B[33m'\u001B[39m\n\u001B[32m    218\u001B[39m         \u001B[33m\"\u001B[39m\u001B[33mReturning anything other than `self` from a top level model validator isn\u001B[39m\u001B[33m'\u001B[39m\u001B[33mt supported when validating via `__init__`.\u001B[39m\u001B[38;5;130;01m\\n\u001B[39;00m\u001B[33m\"\u001B[39m\n\u001B[32m    219\u001B[39m         \u001B[33m'\u001B[39m\u001B[33mSee the `model_validator` docs (https://docs.pydantic.dev/latest/concepts/validators/#model-validators) for more details.\u001B[39m\u001B[33m'\u001B[39m,\n\u001B[32m    220\u001B[39m         stacklevel=\u001B[32m2\u001B[39m,\n\u001B[32m    221\u001B[39m     )\n",
      "\u001B[31mValidationError\u001B[39m: 1 validation error for SerpAPIWrapper\n  Value error, Did not find serpapi_api_key, please add an environment variable `SERPAPI_API_KEY` which contains it, or pass `serpapi_api_key` as a named parameter. [type=value_error, input_value={}, input_type=dict]\n    For further information visit https://errors.pydantic.dev/2.10/v/value_error"
     ]
    }
   ],
   "execution_count": 1
  }
 ],
 "metadata": {
  "kernelspec": {
   "display_name": "Python 3",
   "language": "python",
   "name": "python3"
  },
  "language_info": {
   "codemirror_mode": {
    "name": "ipython",
    "version": 2
   },
   "file_extension": ".py",
   "mimetype": "text/x-python",
   "name": "python",
   "nbconvert_exporter": "python",
   "pygments_lexer": "ipython2",
   "version": "2.7.6"
  }
 },
 "nbformat": 4,
 "nbformat_minor": 5
}
