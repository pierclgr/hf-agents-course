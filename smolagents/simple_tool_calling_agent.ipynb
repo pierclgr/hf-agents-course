{
 "cells": [
  {
   "metadata": {},
   "cell_type": "markdown",
   "source": [
    "# Tool Calling Agents\n",
    "Let's write a simple tool calling agent searching a playlist on DuckDuckGo."
   ],
   "id": "d9d8f93cf95bbc8f"
  },
  {
   "metadata": {},
   "cell_type": "code",
   "source": [
    "from smolagents import ToolCallingAgent, DuckDuckGoSearchTool, HfApiModel\n",
    "\n",
    "agent = ToolCallingAgent(\n",
    "    tools=[DuckDuckGoSearchTool()],\n",
    "    model=HfApiModel()\n",
    ")\n",
    "\n",
    "agent.run(\"Search for the best music recommendations for a party at the Wayne's mansion.\")"
   ],
   "id": "cb9f28ebc85d4a07",
   "outputs": [],
   "execution_count": null
  },
  {
   "metadata": {},
   "cell_type": "markdown",
   "source": [
    "## Custom tools\n",
    "Let's define a tool with ```@tool``` decorator."
   ],
   "id": "1e7e74a954e8d146"
  },
  {
   "metadata": {},
   "cell_type": "code",
   "source": [
    "from smolagents import ToolCallingAgent, HfApiModel, tool\n",
    "\n",
    "# function fetching the highest-rated catering services (simulating search query filtering)\n",
    "@tool\n",
    "def catering_service_tool(query: str) -> str:\n",
    "    \"\"\"\n",
    "    This tool returns the highest-rated catering service in Gotham City.\n",
    "    \n",
    "    Args:\n",
    "        query: A search term for finding catering services.\n",
    "    \"\"\"\n",
    "    \n",
    "    # dummy example list of catering services and ratings\n",
    "    services =  {\n",
    "        \"Gotham Catering Co.\": 4.9,\n",
    "        \"Wayne Manor Catering\": 4.8,\n",
    "        \"Gotham City Events\": 4.7\n",
    "    }\n",
    "    \n",
    "    # find the highest rated catering service (simulating search query filtering)\n",
    "    best_service = max(services, key=services.get)\n",
    "    \n",
    "    return best_service\n",
    "\n",
    "\n",
    "agent = ToolCallingAgent(tools=[catering_service_tool], model=HfApiModel())\n",
    "result = agent.run(\"Can you give me the name of the highest-rated catering service in Gotham City?\")\n",
    "\n",
    "print(result)"
   ],
   "id": "f2bf636ae0cce0a2",
   "outputs": [],
   "execution_count": null
  },
  {
   "metadata": {},
   "cell_type": "markdown",
   "source": "Now let's define a tool as subclass of ```Tool``` Python class.",
   "id": "30cf2d897b3e6da9"
  },
  {
   "metadata": {},
   "cell_type": "code",
   "source": [
    "from smolagents import ToolCallingAgent, HfApiModel, Tool\n",
    "\n",
    "class SuperheroPartyThemeTool(Tool):\n",
    "    name = \"superhero_party_theme_generator\"\n",
    "    description = \"\"\"\n",
    "    This tool suggests creative superhero-themed party ideas based on a category.\n",
    "    It returns a unique party theme idea.\n",
    "    \"\"\"\n",
    "    \n",
    "    inputs = {\n",
    "        \"category\": {\n",
    "            \"type\": \"string\",\n",
    "            \"description\": \"The category of the party, e.g., 'casual', 'formal', or 'superhero'.\"\n",
    "        }\n",
    "    }\n",
    "    \n",
    "    output_type = \"string\"\n",
    "    \n",
    "    def forward(self, category: str) -> str:\n",
    "        themes = {\n",
    "            \"classic heroes\": \"Justice League Gala: Guests come dressed as their favorite DC heroes with themed cocktails like 'The Kryptonite Punch'.\",\n",
    "            \"villain masquerade\": \"Gotham Rogues' Ball: A mysterious masquerade where guests dress as classic Batman villains.\",\n",
    "            \"futuristic Gotham\": \"Neo-Gotham Night: A cyberpunk-style party inspired by Batman Beyond, with neon decorations and futuristic gadgets.\"\n",
    "        }\n",
    "        \n",
    "        return themes.get(category.lower(), \n",
    "                          \"Themed party idea not found. Try 'classic heroes', 'villain masquerade', or 'futuristic Gotham'.\")\n",
    "    \n",
    "party_theme_tool = SuperheroPartyThemeTool()\n",
    "agent = ToolCallingAgent(tools=[party_theme_tool], model=HfApiModel())\n",
    "\n",
    "result = agent.run(\n",
    "    \"What would be a good superhero party idea for a 'villain masquerade' theme?\"\n",
    ")\n",
    "\n",
    "print(result)"
   ],
   "id": "7e2923456c1407e7",
   "outputs": [],
   "execution_count": null
  },
  {
   "metadata": {},
   "cell_type": "markdown",
   "source": "Let's now share our custom tool to HuggingFace hub.",
   "id": "a0c803a2ee4b032b"
  },
  {
   "metadata": {},
   "cell_type": "code",
   "source": "party_theme_tool.push_to_hub(\"pierclgr/party_theme_tool\", token=\"hf_...\")  # replace with your token",
   "id": "9b650cd2c1e7e757",
   "outputs": [],
   "execution_count": null
  },
  {
   "metadata": {},
   "cell_type": "markdown",
   "source": "Let's then import a tool from the hub.",
   "id": "b49dfdc41ed474d0"
  },
  {
   "metadata": {},
   "cell_type": "code",
   "source": [
    "from smolagents import load_tool, ToolCallingAgent, HfApiModel\n",
    "\n",
    "image_generation_tool = load_tool(\n",
    "    \"m-ric/text-to-image\",\n",
    "    trust_remote_code=True\n",
    ")\n",
    "\n",
    "agent = ToolCallingAgent(\n",
    "    tools=[image_generation_tool],\n",
    "    model=HfApiModel()\n",
    ")\n",
    "\n",
    "agent.run(\"Generate an image of a luxurious superhero-themed party at Wayne Manor with made-up superheros.\")"
   ],
   "id": "54ad9dad5b98396e",
   "outputs": [],
   "execution_count": null
  },
  {
   "metadata": {},
   "cell_type": "markdown",
   "source": "Let's also import a HF Space as a tool.",
   "id": "cd54749d9e6ec95e"
  },
  {
   "metadata": {},
   "cell_type": "code",
   "source": [
    "from smolagents import ToolCallingAgent, HfApiModel, Tool\n",
    "\n",
    "image_generation_tool = Tool.from_hub(\n",
    "    \"black-forest-labs/FLUX.1-schnell\",\n",
    "    name=\"image_generator\",\n",
    "    description=\"Generate an image from a prompt\",\n",
    "    trust_remote_code=True\n",
    ")\n",
    "\n",
    "model = HfApiModel(\"Qwen/Quen2.5-Coder-32B-Instruct\")\n",
    "\n",
    "agent = ToolCallingAgent(\n",
    "    tools=[image_generation_tool],\n",
    "    model=model\n",
    ")\n",
    "\n",
    "agent.run(\"Improve this prompt, then generate an image of it.\",\n",
    "          additional_args={\"user_prompt\": \"A grand superhero-themed party at Wayne Manor, with Alfred overseeing a luxurious gala\"})"
   ],
   "id": "9381cfb435b63cb1",
   "outputs": [],
   "execution_count": null
  },
  {
   "metadata": {},
   "cell_type": "markdown",
   "source": [
    "## Import LangChain tools\n",
    "Let's now import a LangChain tool."
   ],
   "id": "58f5f1487c915d1b"
  },
  {
   "metadata": {},
   "cell_type": "code",
   "source": [
    "from langchain.agents import load_tools\n",
    "from smolagents import ToolCallingAgent, HfApiModel, Tool\n",
    "\n",
    "search_tool = Tool.from_langchain(load_tools([\"serpapi\"])[0])\n",
    "agent = ToolCallingAgent(tools=[search_tool], model=HfApiModel())\n",
    "agent.run(\"Search for luxury entertainment ideas for a superhero-themed event, such as live performances and interactive experiences.\")"
   ],
   "id": "ba77f33d1d86323b",
   "outputs": [],
   "execution_count": null
  }
 ],
 "metadata": {
  "kernelspec": {
   "display_name": "Python 3",
   "language": "python",
   "name": "python3"
  },
  "language_info": {
   "codemirror_mode": {
    "name": "ipython",
    "version": 2
   },
   "file_extension": ".py",
   "mimetype": "text/x-python",
   "name": "python",
   "nbconvert_exporter": "python",
   "pygments_lexer": "ipython2",
   "version": "2.7.6"
  }
 },
 "nbformat": 4,
 "nbformat_minor": 5
}
