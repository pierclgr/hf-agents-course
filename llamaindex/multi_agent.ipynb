{
 "cells": [
  {
   "metadata": {},
   "cell_type": "markdown",
   "source": "# Multi-Agent System",
   "id": "a67bf1a92f3be91f"
  },
  {
   "metadata": {
    "ExecuteTime": {
     "end_time": "2025-03-21T00:26:50.190363Z",
     "start_time": "2025-03-21T00:26:43.537178Z"
    }
   },
   "cell_type": "code",
   "source": [
    "from llama_index.core.agent.workflow import AgentWorkflow, FunctionAgent, ReActAgent, ToolCallResult, AgentStream  \n",
    "from llama_index.llms.ollama import Ollama\n",
    "from llama_index.embeddings.ollama import OllamaEmbedding\n",
    "from llama_index.vector_stores.chroma import ChromaVectorStore\n",
    "from llama_index.core import VectorStoreIndex\n",
    "from llama_index.core.tools import QueryEngineTool\n",
    "import chromadb\n",
    "\n",
    "\n",
    "# define some tools\n",
    "def add(a: int, b: int) -> int:\n",
    "    return a + b\n",
    "\n",
    "\n",
    "def subtract(a: int, b: int) -> int:\n",
    "    return a - b\n",
    "\n",
    "\n",
    "# for HuggingFace                                                                                          \n",
    "# from llama_index.llms.huggingface_api import HuggingFaceInferenceAPI                                     \n",
    "# from llama_index.embeddings.huggingface_api import HuggingFaceInferenceAPIEmbedding                      \n",
    "# embed_model = HuggingFaceInferenceAPIEmbedding(model_name=\"BAAI/bge-small-en-v1.5\")                      \n",
    "# llm = HuggingFaceInferenceAPI(model_name=\"Qwen/Qwen2.5-Coder-32B-Instruct\")                              \n",
    "\n",
    "# create a vector store                                                                                    \n",
    "db = chromadb.PersistentClient(path=\"./alfred_chroma_db\")\n",
    "chroma_collection = db.get_or_create_collection(\"alfred\")\n",
    "vector_store = ChromaVectorStore(chroma_collection=chroma_collection)\n",
    "\n",
    "# create a query engine                                                                                    \n",
    "llm = Ollama(model=\"qwen2.5-coder\")\n",
    "embed_model = OllamaEmbedding(model_name=\"nomic-embed-text\")\n",
    "index = VectorStoreIndex.from_vector_store(\n",
    "    vector_store=vector_store, embed_model=embed_model\n",
    ")\n",
    "query_engine = index.as_query_engine(llm=llm)\n",
    "query_engine_tool = QueryEngineTool.from_defaults(\n",
    "    query_engine=query_engine,\n",
    "    name=\"personas\",\n",
    "    description=\"descriptions for various types of personas\",\n",
    "    return_direct=False,\n",
    ")\n",
    "\n",
    "# create agent configs\n",
    "calculator_agent = FunctionAgent(\n",
    "    name=\"calculator\",\n",
    "    description=\"Performs basic arithmetic operations\",\n",
    "    system_prompt=\"You are a calculator assistant. Use your tools for any math operation.\",\n",
    "    tools=[add, subtract],\n",
    "    llm=llm,\n",
    ")\n",
    "\n",
    "query_agent = ReActAgent(\n",
    "    name=\"info_lookup\",\n",
    "    description=\"Looks up information about XYZ\",\n",
    "    system_prompt=\"Use your tool to query a RAG system to answer information about XYZ\",\n",
    "    tools=[query_engine_tool],\n",
    "    llm=llm,\n",
    ")\n",
    "\n",
    "# create and run the workflow\n",
    "agent = AgentWorkflow(\n",
    "    agents=[calculator_agent, query_agent], root_agent=\"calculator\"\n",
    ")\n",
    "\n",
    "# run the system\n",
    "handler = agent.run(user_msg=\"Can you add 5 and 3?\")\n",
    "\n",
    "async for ev in handler.stream_events():\n",
    "    if isinstance(ev, ToolCallResult):\n",
    "        print(\"\")\n",
    "        print(\"Called tool: \", ev.tool_name, ev.tool_kwargs, \"=>\", ev.tool_output)\n",
    "    elif isinstance(ev, AgentStream):  # showing the thought process\n",
    "        print(ev.delta, end=\"\", flush=True)\n",
    "\n",
    "resp = await handler\n",
    "resp"
   ],
   "id": "201b76275ce5a6da",
   "outputs": [
    {
     "name": "stdout",
     "output_type": "stream",
     "text": [
      "\n",
      "Called tool:  add {'a': 5, 'b': 3} => 8\n",
      "The sum of 5 and 3 is 8. Is there anything else I can help with?"
     ]
    },
    {
     "data": {
      "text/plain": [
       "AgentOutput(response=ChatMessage(role=<MessageRole.ASSISTANT: 'assistant'>, additional_kwargs={'tool_calls': []}, blocks=[TextBlock(block_type='text', text='The sum of 5 and 3 is 8. Is there anything else I can help with?')]), tool_calls=[ToolCallResult(tool_name='add', tool_kwargs={'a': 5, 'b': 3}, tool_id='add', tool_output=ToolOutput(content='8', tool_name='add', raw_input={'args': (), 'kwargs': {'a': 5, 'b': 3}}, raw_output=8, is_error=False), return_direct=False)], raw={'model': 'qwen2.5-coder', 'created_at': '2025-03-21T00:26:50.178665Z', 'done': True, 'done_reason': 'stop', 'total_duration': 1047951583, 'load_duration': 17323125, 'prompt_eval_count': 410, 'prompt_eval_duration': 206283416, 'eval_count': 22, 'eval_duration': 819119042, 'message': Message(role='assistant', content='The sum of 5 and 3 is 8. Is there anything else I can help with?', images=None, tool_calls=None), 'usage': {'prompt_tokens': 410, 'completion_tokens': 22, 'total_tokens': 432}}, current_agent_name='calculator')"
      ]
     },
     "execution_count": 1,
     "metadata": {},
     "output_type": "execute_result"
    }
   ],
   "execution_count": 1
  }
 ],
 "metadata": {
  "kernelspec": {
   "display_name": "Python 3",
   "language": "python",
   "name": "python3"
  },
  "language_info": {
   "codemirror_mode": {
    "name": "ipython",
    "version": 2
   },
   "file_extension": ".py",
   "mimetype": "text/x-python",
   "name": "python",
   "nbconvert_exporter": "python",
   "pygments_lexer": "ipython2",
   "version": "2.7.6"
  }
 },
 "nbformat": 4,
 "nbformat_minor": 5
}
