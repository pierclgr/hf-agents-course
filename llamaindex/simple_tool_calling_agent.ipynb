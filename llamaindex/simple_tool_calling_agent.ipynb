{
 "cells": [
  {
   "metadata": {},
   "cell_type": "markdown",
   "source": "# Simple agent",
   "id": "9a932065bebb2130"
  },
  {
   "metadata": {},
   "cell_type": "code",
   "source": [
    "from llama_index.llms.ollama import Ollama\n",
    "from llama_index.core.agent.workflow import AgentWorkflow, ToolCallResult, AgentStream\n",
    "from llama_index.core.tools import FunctionTool\n",
    "\n",
    "\n",
    "# for HuggingFace\n",
    "# from llama_index.llms.huggingface_api import HuggingFaceInferenceAPI\n",
    "# llm = HuggingFaceInferenceAPI(model_name=\"Qwen/Qwen2.5-Coder-32B-Instruct\")\n",
    "llm = Ollama(model=\"qwen2.5-coder\")\n",
    "\n",
    "def multiply(a: int, b: int) -> int:\n",
    "    \"\"\"Multiplies two integers and returns the resulting integer\"\"\"\n",
    "    return a * b\n",
    "\n",
    "\n",
    "def divide(a: int, b: int) -> int:\n",
    "    \"\"\"Divides two integers and returns the resulting integer\"\"\"\n",
    "    return a / b\n",
    "\n",
    "\n",
    "def add(a: int, b: int) -> int:\n",
    "    \"\"\"Adds two integers and returns the resulting integer\"\"\"\n",
    "    return a + b\n",
    "\n",
    "\n",
    "def subtract(a: int, b: int) -> int:\n",
    "    \"\"\"Subtracts two integers and returns the resulting integer\"\"\"\n",
    "    return a - b\n",
    "\n",
    "\n",
    "llm = Ollama(model=\"qwen2.5-coder\")\n",
    "\n",
    "agent = AgentWorkflow.from_tools_or_functions(\n",
    "    [FunctionTool.from_defaults(multiply), subtract, multiply, add],\n",
    "    llm=llm,\n",
    "    system_prompt=\"Your are a math agent that can add, subtract ,multiply and divide numbers using provided tools\"\n",
    ")\n",
    "\n",
    "handler = agent.run(\"What is (2 + 2) * 2?\")\n",
    "async for ev in handler.stream_events():\n",
    "    if isinstance(ev, ToolCallResult):\n",
    "        print(\"\")\n",
    "        print(\"Called tool: \", ev.tool_name, ev.tool_kwargs, \"=>\", ev.tool_output)\n",
    "    elif isinstance(ev, AgentStream):\n",
    "        print(ev.delta, end=\"\", flush=True)\n",
    "        \n",
    "resp = await handler\n",
    "resp"
   ],
   "id": "f6bcba17b5f397b5",
   "outputs": [],
   "execution_count": null
  },
  {
   "metadata": {},
   "cell_type": "markdown",
   "source": "Agents are stateless by default, so if we want it to remember previous interactions like in a chatbot manner maintaining context across multiple messages, we need to use a `Context` object.",
   "id": "a6e3688a36b6e5b9"
  },
  {
   "metadata": {},
   "cell_type": "code",
   "source": [
    "from llama_index.core.workflow import Context\n",
    "\n",
    "ctx = Context(agent)\n",
    "\n",
    "response = await agent.run(\"My name is Bob.\", ctx=ctx)\n",
    "response = await agent.run(\"What was my name again?\", ctx=ctx)\n",
    "response"
   ],
   "id": "6e728f6e3d877889",
   "outputs": [],
   "execution_count": null
  },
  {
   "metadata": {},
   "cell_type": "code",
   "source": "",
   "id": "a9994760c31e78d1",
   "outputs": [],
   "execution_count": null
  },
  {
   "metadata": {},
   "cell_type": "markdown",
   "source": "",
   "id": "cdb006dd7d5d190b"
  }
 ],
 "metadata": {
  "kernelspec": {
   "display_name": "Python 3",
   "language": "python",
   "name": "python3"
  },
  "language_info": {
   "codemirror_mode": {
    "name": "ipython",
    "version": 2
   },
   "file_extension": ".py",
   "mimetype": "text/x-python",
   "name": "python",
   "nbconvert_exporter": "python",
   "pygments_lexer": "ipython2",
   "version": "2.7.6"
  }
 },
 "nbformat": 4,
 "nbformat_minor": 5
}
